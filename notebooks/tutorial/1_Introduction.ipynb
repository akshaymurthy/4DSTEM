{
 "cells": [
  {
   "cell_type": "markdown",
   "metadata": {},
   "source": [
    "# py4DSTEM tutorial 1: Introduction\n",
    "\n",
    "This tutorial introduces py4DSTEM, an python-based analysis package for 4D-STEM data, and demonstrates how to create a strain map from a 4D-STEM datacube.\n",
    "\n",
    "This notebook includes with\n",
    "- Interacting with DataCubes: how to load, slice, and display 4D data\n",
    "- Filehandling: how to save and load data"
   ]
  },
  {
   "cell_type": "code",
   "execution_count": 4,
   "metadata": {},
   "outputs": [
    {
     "name": "stderr",
     "output_type": "stream",
     "text": [
      "WARNING:hyperspy_gui_traitsui:The module://ipykernel.pylab.backend_inline matplotlib backend is not compatible with the traitsui GUI elements. For more information, read http://hyperspy.readthedocs.io/en/stable/user_guide/getting_started.html#possible-warnings-when-importing-hyperspy.\n",
      "WARNING:hyperspy_gui_traitsui:The traitsui GUI elements are not available.\n"
     ]
    }
   ],
   "source": [
    "import numpy as np\n",
    "from ncempy.io import dm\n",
    "import matplotlib.pyplot as plt\n",
    "from matplotlib.colors import ListedColormap\n",
    "import matplotlib as mpl\n",
    "import hyperspy.api as hp\n",
    "from matplotlib.patches import Circle\n",
    "import h5py\n",
    "from scipy.ndimage.filters import gaussian_filter\n",
    "\n",
    "import py4DSTEM\n",
    "from py4DSTEM.process.calibration import get_probe_size\n",
    "from py4DSTEM.process.dpc import get_CoM_images, get_rotation_and_flip, get_phase_from_CoM\n",
    "from py4DSTEM.process.dpc import get_wavenumber, get_interaction_constant"
   ]
  },
  {
   "cell_type": "markdown",
   "metadata": {},
   "source": [
    "### Datacubes"
   ]
  },
  {
   "cell_type": "code",
   "execution_count": 31,
   "metadata": {},
   "outputs": [],
   "source": [
    "# Load a datacube\n",
    "\n",
    "fp = \"/Users/akshay/Google Drive/Data Analysis/py4DSTEM/py4DSTEM/notebooks/module_demos/dpc/Diffraction SI.dm4\"\n",
    "im0 = dm.dmReader(fp)\n",
    "im1=(im0['data'])\n",
    "dc = py4DSTEM.file.datastructure.DataCube(im1[:,:,:,:])\n",
    "\n",
    "#dc = py4DSTEM.file.io.read(fp)"
   ]
  },
  {
   "cell_type": "code",
   "execution_count": 32,
   "metadata": {},
   "outputs": [
    {
     "name": "stdout",
     "output_type": "stream",
     "text": [
      "Creating file /Users/akshay/Google Drive/Data Analysis/py4DSTEM/py4DSTEM/notebooks/module_demos/dpc/sample_processing_file2.h5...\n",
      "Done.\n"
     ]
    }
   ],
   "source": [
    "savepath = \"/Users/akshay/Google Drive/Data Analysis/py4DSTEM/py4DSTEM/notebooks/module_demos/dpc/sample_processing_file2.h5\"\n",
    "py4DSTEM.file.io.save(dc, savepath)"
   ]
  },
  {
   "cell_type": "markdown",
   "metadata": {},
   "source": [
    "The `dc` variable we've just defined is a py4DSTEM `DataCube` object.\n",
    "\n",
    "##### Exercises:\n",
    "\n",
    "- where does its data live?\n",
    "- what is the shape of the data?"
   ]
  },
  {
   "cell_type": "code",
   "execution_count": 29,
   "metadata": {},
   "outputs": [
    {
     "data": {
      "text/plain": [
       "py4DSTEM.file.datastructure.diffraction.DiffractionSlice"
      ]
     },
     "execution_count": 29,
     "metadata": {},
     "output_type": "execute_result"
    }
   ],
   "source": [
    "type(image_real_slice)"
   ]
  },
  {
   "cell_type": "markdown",
   "metadata": {},
   "source": [
    "The code below creates a figure with two plots...\n",
    "\n",
    "##### Exercises:\n",
    "- add to the plot on the left a single diffraction pattern from scan position $(x,y) = (30,36)$\n",
    "- add to the plot on the right an image of the sample\n",
    "- add to the plot on the right a marker showing scan position $(30,36)$"
   ]
  },
  {
   "cell_type": "code",
   "execution_count": 17,
   "metadata": {},
   "outputs": [
    {
     "data": {
      "image/png": "[encoded data removed]",
      "text/plain": [
       "<Figure size 864x432 with 2 Axes>"
      ]
     },
     "metadata": {
      "needs_background": "light"
     },
     "output_type": "display_data"
    }
   ],
   "source": [
    "# Show\n",
    "\n",
    "fig,(ax1,ax2)=plt.subplots(1,2,figsize=(12,6))\n",
    "ax1.matshow(  np.ones((10,10))  )\n",
    "ax2.matshow(  np.ones((10,10))  )\n",
    "plt.show()"
   ]
  },
  {
   "cell_type": "code",
   "execution_count": null,
   "metadata": {},
   "outputs": [],
   "source": []
  },
  {
   "cell_type": "markdown",
   "metadata": {},
   "source": [
    "### Filehandling - saving and loading\n",
    "\n",
    "For reading a writing files, py4DSTEM bundles python arrays into the following objects:\n",
    "- DataCube\n",
    "- RealSlice\n",
    "- DiffractionSlice\n",
    "- PointList\n",
    "- PointListArray\n",
    "\n",
    "Below we'll look at how to use these objects to save parts of our analysis, and then load them again later."
   ]
  },
  {
   "cell_type": "code",
   "execution_count": 18,
   "metadata": {},
   "outputs": [
    {
     "name": "stdout",
     "output_type": "stream",
     "text": [
      "Creating file /Users/akshay/Google Drive/Data Analysis/py4DSTEM/py4DSTEM/notebooks/module_demos/dpc/sample_processing_file.h5...\n",
      "Done.\n"
     ]
    }
   ],
   "source": [
    "# Let's say we want to save the virtual image we created in a new file.\n",
    "# The syntax is:\n",
    "\n",
    "image = np.average(dc.data, axis=(2,3))\n",
    "image_real_slice = py4DSTEM.file.datastructure.RealSlice(data=image, name='my_virtual_image')\n",
    "\n",
    "savepath = \"/Users/akshay/Google Drive/Data Analysis/py4DSTEM/py4DSTEM/notebooks/module_demos/dpc/sample_processing_file.h5\"\n",
    "py4DSTEM.file.io.save(image_real_slice, savepath)"
   ]
  },
  {
   "cell_type": "code",
   "execution_count": 19,
   "metadata": {},
   "outputs": [
    {
     "name": "stdout",
     "output_type": "stream",
     "text": [
      "Opening file /Users/akshay/Google Drive/Data Analysis/py4DSTEM/py4DSTEM/notebooks/module_demos/dpc/sample_processing_file.h5...\n",
      "Done.\n"
     ]
    }
   ],
   "source": [
    "# Now let's say we want to add to this file several diffraction patterns at various scan positions.\n",
    "\n",
    "dp_data = np.zeros((dc.Q_Nx,dc.Q_Ny,3))\n",
    "dp_data[:,:,0] = dc.data[0,0,:,:]\n",
    "dp_data[:,:,1] = dc.data[10,20,:,:]\n",
    "dp_data[:,:,2] = dc.data[30,36,:,:]\n",
    "\n",
    "dp_diffraction_slice = py4DSTEM.file.datastructure.DiffractionSlice(data=dp_data,\n",
    "                                                                    name = 'diffraction_patterns',\n",
    "                                                                    slicelabels=['dp1','dp2','dp3'])\n",
    "\n",
    "py4DSTEM.file.io.append(dp_diffraction_slice, savepath)  # Note the change from 'save' to 'append'!"
   ]
  },
  {
   "cell_type": "code",
   "execution_count": 20,
   "metadata": {},
   "outputs": [],
   "source": [
    "# Let's remove these objects from memory and then reload them to make sure everything worked...\n",
    "\n",
    "del image_real_slice, dp_diffraction_slice"
   ]
  },
  {
   "cell_type": "code",
   "execution_count": 21,
   "metadata": {},
   "outputs": [
    {
     "name": "stdout",
     "output_type": "stream",
     "text": [
      " Index                  Name                        Type        \n",
      "   0    diffraction_patterns                DiffractionSlice    \n",
      "   1    my_virtual_image                    RealSlice           \n"
     ]
    }
   ],
   "source": [
    "# We can look at what's in a file before loading with a Filebrowser\n",
    "\n",
    "browser = py4DSTEM.file.io.FileBrowser(savepath)\n",
    "browser.show_dataobjects()"
   ]
  },
  {
   "cell_type": "code",
   "execution_count": 24,
   "metadata": {},
   "outputs": [],
   "source": [
    "# Now we can load these by name:\n",
    "\n",
    "image_real_slice = browser.get_dataobject('diffraction_patterns')"
   ]
  },
  {
   "cell_type": "code",
   "execution_count": 25,
   "metadata": {},
   "outputs": [
    {
     "name": "stderr",
     "output_type": "stream",
     "text": [
      "WARNING:matplotlib.image:Clipping input data to the valid range for imshow with RGB data ([0..1] for floats or [0..255] for integers).\n"
     ]
    },
    {
     "data": {
      "image/png": "[encoded data removed]",
      "text/plain": [
       "<Figure size 432x288 with 1 Axes>"
      ]
     },
     "metadata": {
      "needs_background": "light"
     },
     "output_type": "display_data"
    }
   ],
   "source": [
    "# Finally, we'll plot the image to make sure everything worked as expected:\n",
    "\n",
    "fig,ax = plt.subplots()\n",
    "ax.matshow(image_real_slice.data)\n",
    "plt.show()"
   ]
  },
  {
   "cell_type": "code",
   "execution_count": null,
   "metadata": {},
   "outputs": [],
   "source": []
  }
 ],
 "metadata": {
  "kernelspec": {
   "display_name": "Python 3",
   "language": "python",
   "name": "python3"
  },
  "language_info": {
   "codemirror_mode": {
    "name": "ipython",
    "version": 3
   },
   "file_extension": ".py",
   "mimetype": "text/x-python",
   "name": "python",
   "nbconvert_exporter": "python",
   "pygments_lexer": "ipython3",
   "version": "3.7.3"
  }
 },
 "nbformat": 4,
 "nbformat_minor": 2
}
